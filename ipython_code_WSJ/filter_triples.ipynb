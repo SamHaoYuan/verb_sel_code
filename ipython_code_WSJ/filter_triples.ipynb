{
 "cells": [
  {
   "cell_type": "code",
   "execution_count": 10,
   "metadata": {},
   "outputs": [],
   "source": [
    "import pandas as pd\n",
    "import nltk as nl\n",
    "triples = pd.read_csv('bllip_triples',delimiter=', ',engine='python')"
   ]
  },
  {
   "cell_type": "code",
   "execution_count": 11,
   "metadata": {
    "collapsed": true
   },
   "outputs": [],
   "source": [
    "# verb part-of-speech and filter\n",
    "verbs = list()\n",
    "for i in range(len(triples)):\n",
    "    verb = triples.loc[i,'verb']\n",
    "    token = nl.word_tokenize(verb)\n",
    "    if len(token) >1:\n",
    "        pos_tokens = nl.pos_tag(token)\n",
    "        verb = str()\n",
    "        for pos_token in pos_tokens:\n",
    "            if (pos_token[1] not in ['NN','NNS','RP','VB','VBD','VBG','VBN','VBP','VBZ']):\n",
    "                pos_tokens.remove(pos_token)\n",
    "            else:\n",
    "                verb = verb.strip() +' '+pos_token[0]\n",
    "    triples.loc[i,'verb'] = verb"
   ]
  },
  {
   "cell_type": "code",
   "execution_count": 12,
   "metadata": {
    "collapsed": true
   },
   "outputs": [],
   "source": [
    "# filter auxiliary verbs including 'be' and 'have'\n",
    "for i in range(len(triples)):\n",
    "    verb = triples.loc[i,'verb']\n",
    "    tokens = nl.word_tokenize(verb)\n",
    "    verb = str()\n",
    "    for pos_token in tokens:\n",
    "        if (pos_token not in ['be','have','will','would','could','>','can']):\n",
    "            verb = (verb+' '+pos_token).strip()\n",
    "    triples.loc[i,'verb'] = verb"
   ]
  },
  {
   "cell_type": "code",
   "execution_count": 13,
   "metadata": {},
   "outputs": [
    {
     "data": {
      "text/plain": [
       "                   12653\n",
       "rise                8600\n",
       "fall                3856\n",
       "increase            2292\n",
       "own                 1277\n",
       "yield               1277\n",
       "decline             1144\n",
       "grow                1105\n",
       "hold                1093\n",
       "drop                 929\n",
       "account              746\n",
       "climb                745\n",
       "report               664\n",
       "jump                 654\n",
       "sell                 623\n",
       "acquire              590\n",
       "buy                  508\n",
       "post                 497\n",
       "average              421\n",
       "represent            396\n",
       "range                376\n",
       "surge                355\n",
       "total                339\n",
       "gain                 302\n",
       "pay                  294\n",
       "of                   285\n",
       "show                 271\n",
       "soar                 253\n",
       "slip                 252\n",
       "stand                249\n",
       "                   ...  \n",
       "half                   1\n",
       "cge                    1\n",
       "make sense             1\n",
       "say give               1\n",
       "foot                   1\n",
       "acknowledge            1\n",
       "retailer               1\n",
       "equip                  1\n",
       "sponsor                1\n",
       "happen                 1\n",
       "disburse               1\n",
       "kick                   1\n",
       "alternate              1\n",
       "increase salary        1\n",
       "source                 1\n",
       "plateau                1\n",
       "reinstate              1\n",
       "share at_time          1\n",
       "buyout                 1\n",
       "expect atop            1\n",
       "showing                1\n",
       "represent flat         1\n",
       "stagnate               1\n",
       "reshuffle              1\n",
       "profit-sharing         1\n",
       "correct                1\n",
       "bring down             1\n",
       "mark up                1\n",
       "lathe                  1\n",
       "intercept              1\n",
       "Name: verb, dtype: int64"
      ]
     },
     "execution_count": 13,
     "metadata": {},
     "output_type": "execute_result"
    }
   ],
   "source": [
    "triples.verb.value_counts()"
   ]
  },
  {
   "cell_type": "code",
   "execution_count": 14,
   "metadata": {
    "collapsed": true
   },
   "outputs": [],
   "source": [
    "triples.to_csv('triples.csv')"
   ]
  }
 ],
 "metadata": {
  "kernelspec": {
   "display_name": "Python 3",
   "language": "python",
   "name": "python3"
  },
  "language_info": {
   "codemirror_mode": {
    "name": "ipython",
    "version": 2
   },
   "file_extension": ".py",
   "mimetype": "text/x-python",
   "name": "python",
   "nbconvert_exporter": "python",
   "pygments_lexer": "ipython2",
   "version": "2.7.10"
  }
 },
 "nbformat": 4,
 "nbformat_minor": 1
}
