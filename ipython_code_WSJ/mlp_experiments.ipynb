{
 "cells": [
  {
   "cell_type": "code",
   "execution_count": 13,
   "metadata": {},
   "outputs": [],
   "source": [
    "from calculate_performance import preprocess, encode\n",
    "from VerbSelect import VerbSelectMLPMMREstimator\n",
    "from sklearn.metrics import accuracy_score\n",
    "import numpy as np\n",
    "from sklearn.neural_network import MLPClassifier\n",
    "from sklearn import cross_validation\n",
    "from sklearn.metrics import label_ranking_average_precision_score, make_scorer"
   ]
  },
  {
   "cell_type": "code",
   "execution_count": 3,
   "metadata": {},
   "outputs": [],
   "source": [
    "def estimate(df, scorer, number_neurons=100):\n",
    "    encoding, classes_ = encode(df.verb)\n",
    "    X = df.per.values.reshape(-1, 1)\n",
    "    estimator = MLPClassifier(hidden_layer_sizes=(number_neurons,))\n",
    "    return cross_validation.cross_val_score(estimator=estimator, X=X, y=encoding, scoring=scorer, cv=5)"
   ]
  },
  {
   "cell_type": "code",
   "execution_count": 4,
   "metadata": {},
   "outputs": [],
   "source": [
    "rising_verbs, falling_verbs = preprocess('triples.csv')"
   ]
  },
  {
   "cell_type": "code",
   "execution_count": 14,
   "metadata": {},
   "outputs": [
    {
     "name": "stdout",
     "output_type": "stream",
     "text": [
      "number of neurons: 20\n",
      "rise: 0.611916968863\n",
      "fall: 0.480335614841\n",
      "number of neurons: 40\n",
      "rise: 0.612542203326\n",
      "fall: 0.53097639251\n",
      "number of neurons: 60\n",
      "rise: 0.59797424034\n",
      "fall: 0.558840956934\n",
      "number of neurons: 80\n",
      "rise: 0.60910341378\n",
      "fall: 0.461055359903\n",
      "number of neurons: 100\n",
      "rise: 0.620295110666\n",
      "fall: 0.463112334023\n",
      "number of neurons: 120\n",
      "rise: 0.583781418032\n",
      "fall: 0.48969612253\n",
      "number of neurons: 140\n",
      "rise: 0.576966362386\n",
      "fall: 0.439727729999\n",
      "number of neurons: 160\n",
      "rise: 0.596161060398\n",
      "fall: 0.407598386194\n",
      "number of neurons: 180\n",
      "rise: 0.592284606728\n",
      "fall: 0.474422358643\n",
      "number of neurons: 200\n",
      "rise: 0.575778416906\n",
      "fall: 0.470700731354\n",
      "number of neurons: 220\n",
      "rise: 0.605914718019\n",
      "fall: 0.50357649821\n",
      "number of neurons: 240\n",
      "rise: 0.581092909841\n",
      "fall: 0.501162400034\n",
      "number of neurons: 260\n",
      "rise: 0.62410904089\n",
      "fall: 0.459394795262\n",
      "number of neurons: 280\n",
      "rise: 0.62410904089\n",
      "fall: 0.535964041462\n",
      "number of neurons: 300\n",
      "rise: 0.598536951357\n",
      "fall: 0.484812286643\n",
      "number of neurons: 320\n",
      "rise: 0.596723771414\n",
      "fall: 0.456559667558\n",
      "number of neurons: 340\n",
      "rise: 0.61416781293\n",
      "fall: 0.510412784103\n",
      "number of neurons: 360\n",
      "rise: 0.543203701388\n",
      "fall: 0.430603823663\n",
      "number of neurons: 380\n",
      "rise: 0.585969738652\n",
      "fall: 0.50614693815\n",
      "number of neurons: 400\n",
      "rise: 0.594723021133\n",
      "fall: 0.541361965338\n",
      "number of neurons: 420\n",
      "rise: 0.585594597974\n",
      "fall: 0.478771752782\n",
      "number of neurons: 440\n",
      "rise: 0.601413029886\n",
      "fall: 0.470572209357\n",
      "number of neurons: 460\n",
      "rise: 0.602038264349\n",
      "fall: 0.504374383388\n",
      "number of neurons: 480\n",
      "rise: 0.595910966612\n",
      "fall: 0.496917974415\n"
     ]
    }
   ],
   "source": [
    "scorer = make_scorer(label_ranking_average_precision_score)\n",
    "for i in range(20, 500, 20):\n",
    "    print('number of neurons:', i)\n",
    "    rise_estimate = estimate(rising_verbs, scorer, i)\n",
    "    fall_estimate = estimate(falling_verbs, scorer, i)\n",
    "    \n",
    "    print('rise:', np.mean(rise_estimate))\n",
    "    print('fall:', np.mean(fall_estimate))"
   ]
  },
  {
   "cell_type": "code",
   "execution_count": 9,
   "metadata": {},
   "outputs": [],
   "source": [
    "# encoding, classes_ = encode(rising_verbs.verb)\n",
    "X = df.per.values.reshape(-1, 1)"
   ]
  },
  {
   "cell_type": "code",
   "execution_count": 12,
   "metadata": {},
   "outputs": [
    {
     "data": {
      "text/plain": [
       "array([[ 11.4],\n",
       "       [  7. ],\n",
       "       [ 10. ],\n",
       "       ..., \n",
       "       [ 55.2],\n",
       "       [ 33. ],\n",
       "       [ 90. ]])"
      ]
     },
     "execution_count": 12,
     "metadata": {},
     "output_type": "execute_result"
    }
   ],
   "source": [
    "rising_verbs.per.values.reshape(-1, 1)"
   ]
  },
  {
   "cell_type": "code",
   "execution_count": null,
   "metadata": {},
   "outputs": [],
   "source": []
  }
 ],
 "metadata": {
  "kernelspec": {
   "display_name": "Python 3",
   "language": "python",
   "name": "python3"
  },
  "language_info": {
   "codemirror_mode": {
    "name": "ipython",
    "version": 3
   },
   "file_extension": ".py",
   "mimetype": "text/x-python",
   "name": "python",
   "nbconvert_exporter": "python",
   "pygments_lexer": "ipython3",
   "version": "3.6.5"
  }
 },
 "nbformat": 4,
 "nbformat_minor": 2
}
